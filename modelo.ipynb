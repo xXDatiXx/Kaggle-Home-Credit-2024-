{
 "cells": [
  {
   "cell_type": "code",
   "execution_count": 27,
   "metadata": {},
   "outputs": [
    {
     "data": {
      "text/plain": [
       "'\\n@misc{home-credit-credit-risk-model-stability,\\n    author = {Daniel Herman, Tomas Jelinek, Walter Reade, Maggie Demkin, Addison Howard},\\n    title = {Home Credit - Credit Risk Model Stability},\\n    publisher = {Kaggle},\\n    year = {2024},\\n    url = {https://kaggle.com/competitions/home-credit-credit-risk-model-stability}\\n}\\n'"
      ]
     },
     "execution_count": 27,
     "metadata": {},
     "output_type": "execute_result"
    }
   ],
   "source": [
    "\"\"\"\n",
    "@misc{home-credit-credit-risk-model-stability,\n",
    "    author = {Daniel Herman, Tomas Jelinek, Walter Reade, Maggie Demkin, Addison Howard},\n",
    "    title = {Home Credit - Credit Risk Model Stability},\n",
    "    publisher = {Kaggle},\n",
    "    year = {2024},\n",
    "    url = {https://kaggle.com/competitions/home-credit-credit-risk-model-stability}\n",
    "}\n",
    "\"\"\""
   ]
  },
  {
   "cell_type": "code",
   "execution_count": 28,
   "metadata": {},
   "outputs": [
    {
     "data": {
      "text/plain": [
       "'\\nHome Credit - Credit Risk Model Stability\\nCreate a model measured against feature stability over time\\nThe goal of this competition is to predict which clients are more likely to default on their loans. \\nThe evaluation will favor solutions that are stable over time.\\n'"
      ]
     },
     "execution_count": 28,
     "metadata": {},
     "output_type": "execute_result"
    }
   ],
   "source": [
    "\"\"\"\n",
    "Home Credit - Credit Risk Model Stability\n",
    "Create a model measured against feature stability over time\n",
    "The goal of this competition is to predict which clients are more likely to default on their loans. \n",
    "The evaluation will favor solutions that are stable over time.\n",
    "\"\"\""
   ]
  },
  {
   "cell_type": "code",
   "execution_count": 29,
   "metadata": {},
   "outputs": [
    {
     "data": {
      "text/plain": [
       "\"\\nLack of credit history could indicate youth or a preference for using cash.\\nTraditional data scarcity often leads to loan application rejections.\\nData science is essential in determining loan repayment capabilities, potentially making loans more accessible to those in need.\\nConsumer finance providers utilize various statistical and machine learning methods in scorecards to assess loan risk.\\nScorecards must be updated regularly due to the constant change in client behavior, making the process time-consuming.\\nThe stability of a scorecard is crucial; a performance decline could mean issuing loans to higher-risk clients.\\nEarly detection of loan repayment issues is challenging and usually visible only after loan due dates.\\nBalancing the stability and performance of scorecards is necessary before their implementation.\\nHome Credit, established in 1997, aims to offer responsible lending to people without significant credit history.\\nHome Credit's efforts in financial inclusion have previously been showcased in a Kaggle competition.\\nImproving scorecard assessments could help consumer finance providers accept more loan applications, enhancing financial access for historically underserved groups.\\n\""
      ]
     },
     "execution_count": 29,
     "metadata": {},
     "output_type": "execute_result"
    }
   ],
   "source": [
    "\"\"\"\n",
    "Lack of credit history could indicate youth or a preference for using cash.\n",
    "Traditional data scarcity often leads to loan application rejections.\n",
    "Data science is essential in determining loan repayment capabilities, potentially making loans more accessible to those in need.\n",
    "Consumer finance providers utilize various statistical and machine learning methods in scorecards to assess loan risk.\n",
    "Scorecards must be updated regularly due to the constant change in client behavior, making the process time-consuming.\n",
    "The stability of a scorecard is crucial; a performance decline could mean issuing loans to higher-risk clients.\n",
    "Early detection of loan repayment issues is challenging and usually visible only after loan due dates.\n",
    "Balancing the stability and performance of scorecards is necessary before their implementation.\n",
    "Home Credit, established in 1997, aims to offer responsible lending to people without significant credit history.\n",
    "Home Credit's efforts in financial inclusion have previously been showcased in a Kaggle competition.\n",
    "Improving scorecard assessments could help consumer finance providers accept more loan applications, enhancing financial access for historically underserved groups.\n",
    "\"\"\""
   ]
  },
  {
   "cell_type": "code",
   "execution_count": 30,
   "metadata": {},
   "outputs": [
    {
     "data": {
      "text/plain": [
       "'\\nFor each case_id in the test set, you must predict a probability for the target score. The file should contain a header and have the following format:\\n\\ncase_id,score\\n57543,0.1\\n57544,0.9\\n57545,0.5\\netc.\\n\\n\\nSubmission file must be named submission.csv\\n\\n'"
      ]
     },
     "execution_count": 30,
     "metadata": {},
     "output_type": "execute_result"
    }
   ],
   "source": [
    "\"\"\"\n",
    "For each case_id in the test set, you must predict a probability for the target score. The file should contain a header and have the following format:\n",
    "\n",
    "case_id,score\n",
    "57543,0.1\n",
    "57544,0.9\n",
    "57545,0.5\n",
    "etc.\n",
    "\n",
    "\n",
    "Submission file must be named submission.csv\n",
    "\n",
    "\"\"\""
   ]
  },
  {
   "cell_type": "code",
   "execution_count": 31,
   "metadata": {},
   "outputs": [
    {
     "data": {
      "text/plain": [
       "'\\n predicting default of clients based on internal and external information that are available for each client. Scoring is \\n performed using custom metric that not only evaluates the AUC of predictions but also considers the stability of predictions \\n model across the data range of the test set.\\n'"
      ]
     },
     "execution_count": 31,
     "metadata": {},
     "output_type": "execute_result"
    }
   ],
   "source": [
    "\"\"\"\n",
    " predicting default of clients based on internal and external information that are available for each client. Scoring is \n",
    " performed using custom metric that not only evaluates the AUC of predictions but also considers the stability of predictions \n",
    " model across the data range of the test set.\n",
    "\"\"\""
   ]
  },
  {
   "cell_type": "code",
   "execution_count": 32,
   "metadata": {},
   "outputs": [],
   "source": [
    "import polars as pl #Libreria para manipulacion de datos, fast wrote in rust https://docs.pola.rs \n",
    "import numpy as np #Libreria para manipulacion de datos \n",
    "import pandas as pd #Libreria para manipulacion de datos \n",
    "import lightgbm as lgb #Libreria para modelos de machine learning,  is a gradient boosting framework that uses tree based learning algorithms. It is designed to be distributed and efficient\n",
    "from sklearn.model_selection import train_test_split\n",
    "from sklearn.metrics import roc_auc_score \n",
    "\n"
   ]
  },
  {
   "cell_type": "code",
   "execution_count": 33,
   "metadata": {},
   "outputs": [],
   "source": [
    "#Se cambia la ruta de acuerdo a la ubicacion de los datos\n",
    "dataPath = \"C:/Users/diego/Documents/UP/Negocios/DataProyecto/\""
   ]
  },
  {
   "cell_type": "markdown",
   "metadata": {},
   "source": [
    "Cargar datos"
   ]
  },
  {
   "cell_type": "code",
   "execution_count": 34,
   "metadata": {},
   "outputs": [],
   "source": [
    "def establecer_tipos_de_datos_tabla(df: pl.DataFrame) -> pl.DataFrame:\n",
    "    # implementar aquí todos los tipos de datos deseados para las tablas\n",
    "    # lo siguiente es solo un ejemplo\n",
    "    for columna in df.columns:\n",
    "        # la última letra del nombre de la columna te ayudará a determinar el tipo\n",
    "        if columna[-1] in (\"P\", \"A\"):\n",
    "            df = df.with_columns(pl.col(columna).cast(pl.Float64).alias(columna)) #Pasa las columnas a float64\n",
    "\n",
    "    return df"
   ]
  },
  {
   "cell_type": "code",
   "execution_count": 35,
   "metadata": {},
   "outputs": [],
   "source": [
    "def convertir_cadenas(df: pd.DataFrame) -> pd.DataFrame:\n",
    "    for columna in df.columns:  \n",
    "        if df[columna].dtype.name in ['object', 'string']:\n",
    "            df[columna] = df[columna].astype(\"string\").astype('category')\n",
    "            categorias_actuales = df[columna].cat.categories\n",
    "            nuevas_categorias = categorias_actuales.to_list() + [\"Desconocido\"]\n",
    "            nuevo_tipo = pd.CategoricalDtype(categories=nuevas_categorias, ordered=True)\n",
    "            df[columna] = df[columna].astype(nuevo_tipo)\n",
    "            \n",
    "    return df"
   ]
  },
  {
   "cell_type": "code",
   "execution_count": 36,
   "metadata": {},
   "outputs": [],
   "source": [
    "ruta_base = dataPath + \"csv_files/train/\"\n",
    "\n",
    "# Leer el archivo base de entrenamiento\n",
    "tabla_base_entrenamiento = pl.read_csv(ruta_base + \"train_base.csv\")\n",
    "\n",
    "# Leer y concatenar los archivos estáticos de entrenamiento\n",
    "archivo_estatico_1 = pl.read_csv(ruta_base + \"train_static_0_0.csv\").pipe(establecer_tipos_de_datos_tabla)\n",
    "archivo_estatico_2 = pl.read_csv(ruta_base + \"train_static_0_1.csv\").pipe(establecer_tipos_de_datos_tabla)\n",
    "entrenamiento_estatico = pl.concat([archivo_estatico_1, archivo_estatico_2], how=\"vertical_relaxed\")\n",
    "\n",
    "# Leer otros archivos de entrenamiento\n",
    "entrenamiento_estatico_cb = pl.read_csv(ruta_base + \"train_static_cb_0.csv\").pipe(establecer_tipos_de_datos_tabla)\n",
    "entrenamiento_persona_1 = pl.read_csv(ruta_base + \"train_person_1.csv\").pipe(establecer_tipos_de_datos_tabla)\n",
    "entrenamiento_buro_credito_b_2 = pl.read_csv(ruta_base + \"train_credit_bureau_b_2.csv\").pipe(establecer_tipos_de_datos_tabla)"
   ]
  },
  {
   "cell_type": "code",
   "execution_count": null,
   "metadata": {},
   "outputs": [],
   "source": [
    "ruta_base_prueba = dataPath + \"csv_files/test/\"\n",
    "\n",
    "# Leer el archivo base de prueba\n",
    "tabla_base_prueba = pl.read_csv(ruta_base_prueba + \"test_base.csv\")\n",
    "\n",
    "# Leer y concatenar los archivos estáticos de prueba\n",
    "archivo_estatico_prueba_1 = pl.read_csv(ruta_base_prueba + \"test_static_0_0.csv\").pipe(establecer_tipos_de_datos_tabla)\n",
    "archivo_estatico_prueba_2 = pl.read_csv(ruta_base_prueba + \"test_static_0_1.csv\").pipe(establecer_tipos_de_datos_tabla)\n",
    "archivo_estatico_prueba_3 = pl.read_csv(ruta_base_prueba + \"test_static_0_2.csv\").pipe(establecer_tipos_de_datos_tabla)\n",
    "prueba_estatica = pl.concat([archivo_estatico_prueba_1, archivo_estatico_prueba_2, archivo_estatico_prueba_3], how=\"vertical_relaxed\")\n",
    "\n",
    "# Leer otros archivos de prueba\n",
    "prueba_estatica_cb = pl.read_csv(ruta_base_prueba + \"test_static_cb_0.csv\").pipe(establecer_tipos_de_datos_tabla)\n",
    "prueba_persona_1 = pl.read_csv(ruta_base_prueba + \"test_person_1.csv\").pipe(establecer_tipos_de_datos_tabla)\n",
    "prueba_buro_credito_b_2 = pl.read_csv(ruta_base_prueba + \"test_credit_bureau_b_2.csv\").pipe(establecer_tipos_de_datos_tabla)"
   ]
  },
  {
   "cell_type": "markdown",
   "metadata": {},
   "source": [
    "Feature engineering"
   ]
  },
  {
   "cell_type": "code",
   "execution_count": null,
   "metadata": {},
   "outputs": [],
   "source": []
  }
 ],
 "metadata": {
  "kernelspec": {
   "display_name": "Python 3",
   "language": "python",
   "name": "python3"
  },
  "language_info": {
   "codemirror_mode": {
    "name": "ipython",
    "version": 3
   },
   "file_extension": ".py",
   "mimetype": "text/x-python",
   "name": "python",
   "nbconvert_exporter": "python",
   "pygments_lexer": "ipython3",
   "version": "3.11.9"
  }
 },
 "nbformat": 4,
 "nbformat_minor": 2
}
